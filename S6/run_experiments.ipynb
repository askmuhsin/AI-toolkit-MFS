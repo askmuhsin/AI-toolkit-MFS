{
  "nbformat": 4,
  "nbformat_minor": 0,
  "metadata": {
    "colab": {
      "name": "run_experiments.ipynb",
      "provenance": [],
      "collapsed_sections": [],
      "authorship_tag": "ABX9TyPGlGvmRjP04AjwfxC/dP4d",
      "include_colab_link": true
    },
    "kernelspec": {
      "name": "python3",
      "display_name": "Python 3"
    },
    "language_info": {
      "name": "python"
    },
    "accelerator": "GPU"
  },
  "cells": [
    {
      "cell_type": "markdown",
      "metadata": {
        "id": "view-in-github",
        "colab_type": "text"
      },
      "source": [
        "<a href=\"https://colab.research.google.com/github/askmuhsin/AI-toolkit-MFS/blob/master/S6/run_experiments.ipynb\" target=\"_parent\"><img src=\"https://colab.research.google.com/assets/colab-badge.svg\" alt=\"Open In Colab\"/></a>"
      ]
    },
    {
      "cell_type": "code",
      "metadata": {
        "id": "afg9n7fKLcI4"
      },
      "source": [
        "%load_ext autoreload\n",
        "%autoreload 2"
      ],
      "execution_count": 18,
      "outputs": []
    },
    {
      "cell_type": "code",
      "metadata": {
        "colab": {
          "base_uri": "https://localhost:8080/"
        },
        "id": "bDrEex1ftP8M",
        "outputId": "d5da594f-bbd4-4308-8774-4820b923dfb6"
      },
      "source": [
        "! git clone https://github.com/eva7wandb/Eva7_Weights_Heist"
      ],
      "execution_count": 20,
      "outputs": [
        {
          "output_type": "stream",
          "name": "stdout",
          "text": [
            "Cloning into 'Eva7_Weights_Heist'...\n",
            "remote: Enumerating objects: 207, done.\u001b[K\n",
            "remote: Counting objects: 100% (207/207), done.\u001b[K\n",
            "remote: Compressing objects: 100% (192/192), done.\u001b[K\n",
            "remote: Total 207 (delta 76), reused 34 (delta 8), pack-reused 0\u001b[K\n",
            "Receiving objects: 100% (207/207), 1.13 MiB | 2.56 MiB/s, done.\n",
            "Resolving deltas: 100% (76/76), done.\n"
          ]
        }
      ]
    },
    {
      "cell_type": "code",
      "metadata": {
        "colab": {
          "base_uri": "https://localhost:8080/"
        },
        "id": "ckOo7df5tb1O",
        "outputId": "82b7d13c-4135-4f7a-c309-39f8efe210e3"
      },
      "source": [
        "! ls ./Eva7_Weights_Heist/S6"
      ],
      "execution_count": 21,
      "outputs": [
        {
          "output_type": "stream",
          "name": "stdout",
          "text": [
            "datasets  models  README.md  run_experiments.ipynb  usage_notebook.ipynb  utils\n"
          ]
        }
      ]
    },
    {
      "cell_type": "code",
      "metadata": {
        "id": "BuCa8jdKtiU3"
      },
      "source": [
        "import sys\n",
        "sys.path.append('./Eva7_Weights_Heist/S6/')"
      ],
      "execution_count": 22,
      "outputs": []
    },
    {
      "cell_type": "code",
      "metadata": {
        "id": "BVoAiC5btquA"
      },
      "source": [
        "import torch\n",
        "import torch.nn as nn\n",
        "import torch.nn.functional as F\n",
        "import torch.optim as optim\n",
        "from torch.optim.lr_scheduler import StepLR\n",
        "\n",
        "import pandas as pd\n",
        "import numpy as np\n",
        "import matplotlib.pyplot as plt\n",
        "from torchsummary import summary\n",
        "\n",
        "from utils.general_utils import setup_env\n",
        "from utils.training import train_model\n",
        "from utils.testing import test_model\n",
        "from utils.misclassified import (\n",
        "    get_incorrect_preds, plot_incorrect_preds\n",
        ")\n",
        "from datasets.mnist import MNIST\n",
        "from models.model import Net"
      ],
      "execution_count": 23,
      "outputs": []
    },
    {
      "cell_type": "code",
      "metadata": {
        "colab": {
          "base_uri": "https://localhost:8080/"
        },
        "id": "UQ7gGPkyuOq1",
        "outputId": "a4d6ad67-af56-421f-94f8-7a93a13a282a"
      },
      "source": [
        "cuda, device = setup_env()\n",
        "print(cuda, device)"
      ],
      "execution_count": 4,
      "outputs": [
        {
          "output_type": "stream",
          "name": "stdout",
          "text": [
            "True cuda\n"
          ]
        }
      ]
    },
    {
      "cell_type": "code",
      "metadata": {
        "colab": {
          "base_uri": "https://localhost:8080/"
        },
        "id": "dqeBIvK2t_lO",
        "outputId": "7bb1809c-b9d5-467e-a1ab-6e988d40adfa"
      },
      "source": [
        "## Load Dataset\n",
        "train_dataloader, test_dataloader = MNIST(cuda).get_dataloader()"
      ],
      "execution_count": 5,
      "outputs": [
        {
          "output_type": "stream",
          "name": "stderr",
          "text": [
            "/usr/local/lib/python3.7/dist-packages/torchvision/datasets/mnist.py:498: UserWarning: The given NumPy array is not writeable, and PyTorch does not support non-writeable tensors. This means you can write to the underlying (supposedly non-writeable) NumPy array using the tensor. You may want to copy the array to protect its data or make it writeable before converting it to a tensor. This type of warning will be suppressed for the rest of this program. (Triggered internally at  /pytorch/torch/csrc/utils/tensor_numpy.cpp:180.)\n",
            "  return torch.from_numpy(parsed.astype(m[2], copy=False)).view(*s)\n",
            "/usr/local/lib/python3.7/dist-packages/torch/utils/data/dataloader.py:481: UserWarning: This DataLoader will create 4 worker processes in total. Our suggested max number of worker in current system is 2, which is smaller than what this DataLoader is going to create. Please be aware that excessive worker creation might get DataLoader running slow or even freeze, lower the worker number to avoid potential slowness/freeze if necessary.\n",
            "  cpuset_checked))\n"
          ]
        }
      ]
    },
    {
      "cell_type": "code",
      "metadata": {
        "id": "jaezXcC46T7v"
      },
      "source": [
        ""
      ],
      "execution_count": 5,
      "outputs": []
    },
    {
      "cell_type": "code",
      "metadata": {
        "id": "4PZmGMzO6anE"
      },
      "source": [
        "logs = []"
      ],
      "execution_count": 6,
      "outputs": []
    },
    {
      "cell_type": "markdown",
      "metadata": {
        "id": "VPhvda-i6UMs"
      },
      "source": [
        "## MODEL 0\n",
        "- Batch Norm Only"
      ]
    },
    {
      "cell_type": "code",
      "metadata": {
        "colab": {
          "base_uri": "https://localhost:8080/"
        },
        "id": "X4Spgdhp-5Iu",
        "outputId": "07eb2423-1a75-435e-aa92-5a5ae99ff261"
      },
      "source": [
        "exp_name = 'batch norm only'\n",
        "model = Net(\n",
        "    batch_norm=True,\n",
        "    dropout_value=0.01,\n",
        ").to(device)\n",
        "summary(model, input_size=(1, 28, 28))\n",
        "\n",
        "optimizer = optim.SGD(model.parameters(), lr=0.1, momentum=0.9)\n",
        "scheduler = StepLR(optimizer, step_size=8, gamma=0.01)\n",
        "\n",
        "EPOCHS = 20\n",
        "for epoch in range(EPOCHS):\n",
        "    print(\"EPOCH:\", epoch)\n",
        "    train_batch_loss, train_batch_acc = train_model(\n",
        "        model, device, train_dataloader, optimizer, epoch\n",
        "    )\n",
        "    test_loss, test_acc = test_model(model, device, test_dataloader)\n",
        "    scheduler.step()\n",
        "    \n",
        "    logs.append({\n",
        "        'epoch': epoch,\n",
        "        'train_losses': np.mean(train_batch_loss),\n",
        "        'test_losses': test_loss,\n",
        "        'train_acc': np.mean(train_batch_acc),\n",
        "        'test_acc': test_acc,\n",
        "        'exp': exp_name,\n",
        "    })"
      ],
      "execution_count": 7,
      "outputs": [
        {
          "output_type": "stream",
          "name": "stderr",
          "text": [
            "/usr/local/lib/python3.7/dist-packages/torch/nn/functional.py:718: UserWarning: Named tensors and all their associated APIs are an experimental feature and subject to change. Please do not use them for anything important until they are released as stable. (Triggered internally at  /pytorch/c10/core/TensorImpl.h:1156.)\n",
            "  return torch.max_pool2d(input, kernel_size, stride, padding, dilation, ceil_mode)\n"
          ]
        },
        {
          "output_type": "stream",
          "name": "stdout",
          "text": [
            "----------------------------------------------------------------\n",
            "        Layer (type)               Output Shape         Param #\n",
            "================================================================\n",
            "            Conv2d-1            [-1, 8, 26, 26]              72\n",
            "              ReLU-2            [-1, 8, 26, 26]               0\n",
            "       BatchNorm2d-3            [-1, 8, 26, 26]              16\n",
            "           Dropout-4            [-1, 8, 26, 26]               0\n",
            "        conv_block-5            [-1, 8, 26, 26]               0\n",
            "            Conv2d-6           [-1, 16, 24, 24]           1,152\n",
            "              ReLU-7           [-1, 16, 24, 24]               0\n",
            "       BatchNorm2d-8           [-1, 16, 24, 24]              32\n",
            "           Dropout-9           [-1, 16, 24, 24]               0\n",
            "       conv_block-10           [-1, 16, 24, 24]               0\n",
            "           Conv2d-11            [-1, 8, 24, 24]             128\n",
            "       conv_block-12            [-1, 8, 24, 24]               0\n",
            "        MaxPool2d-13            [-1, 8, 12, 12]               0\n",
            "           Conv2d-14           [-1, 12, 10, 10]             864\n",
            "             ReLU-15           [-1, 12, 10, 10]               0\n",
            "      BatchNorm2d-16           [-1, 12, 10, 10]              24\n",
            "          Dropout-17           [-1, 12, 10, 10]               0\n",
            "       conv_block-18           [-1, 12, 10, 10]               0\n",
            "           Conv2d-19             [-1, 14, 8, 8]           1,512\n",
            "             ReLU-20             [-1, 14, 8, 8]               0\n",
            "      BatchNorm2d-21             [-1, 14, 8, 8]              28\n",
            "          Dropout-22             [-1, 14, 8, 8]               0\n",
            "       conv_block-23             [-1, 14, 8, 8]               0\n",
            "           Conv2d-24             [-1, 14, 8, 8]           1,764\n",
            "             ReLU-25             [-1, 14, 8, 8]               0\n",
            "      BatchNorm2d-26             [-1, 14, 8, 8]              28\n",
            "          Dropout-27             [-1, 14, 8, 8]               0\n",
            "       conv_block-28             [-1, 14, 8, 8]               0\n",
            "        AvgPool2d-29             [-1, 14, 1, 1]               0\n",
            "           Conv2d-30             [-1, 10, 1, 1]             140\n",
            "       conv_block-31             [-1, 10, 1, 1]               0\n",
            "================================================================\n",
            "Total params: 5,760\n",
            "Trainable params: 5,760\n",
            "Non-trainable params: 0\n",
            "----------------------------------------------------------------\n",
            "Input size (MB): 0.00\n",
            "Forward/backward pass size (MB): 0.75\n",
            "Params size (MB): 0.02\n",
            "Estimated Total Size (MB): 0.78\n",
            "----------------------------------------------------------------\n",
            "EPOCH: 0\n"
          ]
        },
        {
          "output_type": "stream",
          "name": "stderr",
          "text": [
            "\r  0%|          | 0/938 [00:00<?, ?it/s]/usr/local/lib/python3.7/dist-packages/torch/utils/data/dataloader.py:481: UserWarning: This DataLoader will create 4 worker processes in total. Our suggested max number of worker in current system is 2, which is smaller than what this DataLoader is going to create. Please be aware that excessive worker creation might get DataLoader running slow or even freeze, lower the worker number to avoid potential slowness/freeze if necessary.\n",
            "  cpuset_checked))\n",
            "Loss=0.0423799492418766 Batch_id=937 Accuracy=94.62: 100%|██████████| 938/938 [00:27<00:00, 34.59it/s]\n"
          ]
        },
        {
          "output_type": "stream",
          "name": "stdout",
          "text": [
            "\n",
            "Test set: Average loss: 0.0557, Accuracy: 9813/10000 (98.13%)\n",
            "\n",
            "EPOCH: 1\n"
          ]
        },
        {
          "output_type": "stream",
          "name": "stderr",
          "text": [
            "Loss=0.06958220899105072 Batch_id=937 Accuracy=97.99: 100%|██████████| 938/938 [00:27<00:00, 34.20it/s]\n"
          ]
        },
        {
          "output_type": "stream",
          "name": "stdout",
          "text": [
            "\n",
            "Test set: Average loss: 0.0524, Accuracy: 9834/10000 (98.34%)\n",
            "\n",
            "EPOCH: 2\n"
          ]
        },
        {
          "output_type": "stream",
          "name": "stderr",
          "text": [
            "Loss=0.0790344849228859 Batch_id=937 Accuracy=98.28: 100%|██████████| 938/938 [00:27<00:00, 34.37it/s]\n"
          ]
        },
        {
          "output_type": "stream",
          "name": "stdout",
          "text": [
            "\n",
            "Test set: Average loss: 0.0422, Accuracy: 9867/10000 (98.67%)\n",
            "\n",
            "EPOCH: 3\n"
          ]
        },
        {
          "output_type": "stream",
          "name": "stderr",
          "text": [
            "Loss=0.10575946420431137 Batch_id=937 Accuracy=98.50: 100%|██████████| 938/938 [00:27<00:00, 34.45it/s]\n"
          ]
        },
        {
          "output_type": "stream",
          "name": "stdout",
          "text": [
            "\n",
            "Test set: Average loss: 0.0466, Accuracy: 9852/10000 (98.52%)\n",
            "\n",
            "EPOCH: 4\n"
          ]
        },
        {
          "output_type": "stream",
          "name": "stderr",
          "text": [
            "Loss=0.0016836015274748206 Batch_id=937 Accuracy=98.59: 100%|██████████| 938/938 [00:27<00:00, 34.65it/s]\n"
          ]
        },
        {
          "output_type": "stream",
          "name": "stdout",
          "text": [
            "\n",
            "Test set: Average loss: 0.0301, Accuracy: 9906/10000 (99.06%)\n",
            "\n",
            "EPOCH: 5\n"
          ]
        },
        {
          "output_type": "stream",
          "name": "stderr",
          "text": [
            "Loss=0.002594918245449662 Batch_id=937 Accuracy=98.71: 100%|██████████| 938/938 [00:27<00:00, 34.64it/s]\n"
          ]
        },
        {
          "output_type": "stream",
          "name": "stdout",
          "text": [
            "\n",
            "Test set: Average loss: 0.0309, Accuracy: 9895/10000 (98.95%)\n",
            "\n",
            "EPOCH: 6\n"
          ]
        },
        {
          "output_type": "stream",
          "name": "stderr",
          "text": [
            "Loss=0.08762416988611221 Batch_id=937 Accuracy=98.84: 100%|██████████| 938/938 [00:27<00:00, 34.64it/s]\n"
          ]
        },
        {
          "output_type": "stream",
          "name": "stdout",
          "text": [
            "\n",
            "Test set: Average loss: 0.0323, Accuracy: 9892/10000 (98.92%)\n",
            "\n",
            "EPOCH: 7\n"
          ]
        },
        {
          "output_type": "stream",
          "name": "stderr",
          "text": [
            "Loss=0.0027451342903077602 Batch_id=937 Accuracy=98.84: 100%|██████████| 938/938 [00:26<00:00, 34.78it/s]\n"
          ]
        },
        {
          "output_type": "stream",
          "name": "stdout",
          "text": [
            "\n",
            "Test set: Average loss: 0.0306, Accuracy: 9890/10000 (98.90%)\n",
            "\n",
            "EPOCH: 8\n"
          ]
        },
        {
          "output_type": "stream",
          "name": "stderr",
          "text": [
            "Loss=0.016721779480576515 Batch_id=937 Accuracy=99.07: 100%|██████████| 938/938 [00:27<00:00, 34.54it/s]\n"
          ]
        },
        {
          "output_type": "stream",
          "name": "stdout",
          "text": [
            "\n",
            "Test set: Average loss: 0.0253, Accuracy: 9911/10000 (99.11%)\n",
            "\n",
            "EPOCH: 9\n"
          ]
        },
        {
          "output_type": "stream",
          "name": "stderr",
          "text": [
            "Loss=0.03330691158771515 Batch_id=937 Accuracy=99.18: 100%|██████████| 938/938 [00:27<00:00, 34.06it/s]\n"
          ]
        },
        {
          "output_type": "stream",
          "name": "stdout",
          "text": [
            "\n",
            "Test set: Average loss: 0.0246, Accuracy: 9914/10000 (99.14%)\n",
            "\n",
            "EPOCH: 10\n"
          ]
        },
        {
          "output_type": "stream",
          "name": "stderr",
          "text": [
            "Loss=0.03202612325549126 Batch_id=937 Accuracy=99.24: 100%|██████████| 938/938 [00:27<00:00, 34.46it/s]\n"
          ]
        },
        {
          "output_type": "stream",
          "name": "stdout",
          "text": [
            "\n",
            "Test set: Average loss: 0.0232, Accuracy: 9922/10000 (99.22%)\n",
            "\n",
            "EPOCH: 11\n"
          ]
        },
        {
          "output_type": "stream",
          "name": "stderr",
          "text": [
            "Loss=0.008692298084497452 Batch_id=937 Accuracy=99.23: 100%|██████████| 938/938 [00:26<00:00, 34.87it/s]\n"
          ]
        },
        {
          "output_type": "stream",
          "name": "stdout",
          "text": [
            "\n",
            "Test set: Average loss: 0.0227, Accuracy: 9928/10000 (99.28%)\n",
            "\n",
            "EPOCH: 12\n"
          ]
        },
        {
          "output_type": "stream",
          "name": "stderr",
          "text": [
            "Loss=0.002768886974081397 Batch_id=937 Accuracy=99.27: 100%|██████████| 938/938 [00:27<00:00, 34.38it/s]\n"
          ]
        },
        {
          "output_type": "stream",
          "name": "stdout",
          "text": [
            "\n",
            "Test set: Average loss: 0.0228, Accuracy: 9923/10000 (99.23%)\n",
            "\n",
            "EPOCH: 13\n"
          ]
        },
        {
          "output_type": "stream",
          "name": "stderr",
          "text": [
            "Loss=0.012906665913760662 Batch_id=937 Accuracy=99.22: 100%|██████████| 938/938 [00:27<00:00, 34.52it/s]\n"
          ]
        },
        {
          "output_type": "stream",
          "name": "stdout",
          "text": [
            "\n",
            "Test set: Average loss: 0.0216, Accuracy: 9929/10000 (99.29%)\n",
            "\n",
            "EPOCH: 14\n"
          ]
        },
        {
          "output_type": "stream",
          "name": "stderr",
          "text": [
            "Loss=0.0008993464871309698 Batch_id=937 Accuracy=99.29: 100%|██████████| 938/938 [00:26<00:00, 34.94it/s]\n"
          ]
        },
        {
          "output_type": "stream",
          "name": "stdout",
          "text": [
            "\n",
            "Test set: Average loss: 0.0215, Accuracy: 9926/10000 (99.26%)\n",
            "\n",
            "EPOCH: 15\n"
          ]
        },
        {
          "output_type": "stream",
          "name": "stderr",
          "text": [
            "Loss=0.10516291111707687 Batch_id=937 Accuracy=99.25: 100%|██████████| 938/938 [00:27<00:00, 34.08it/s]\n"
          ]
        },
        {
          "output_type": "stream",
          "name": "stdout",
          "text": [
            "\n",
            "Test set: Average loss: 0.0215, Accuracy: 9931/10000 (99.31%)\n",
            "\n",
            "EPOCH: 16\n"
          ]
        },
        {
          "output_type": "stream",
          "name": "stderr",
          "text": [
            "Loss=0.023936802521348 Batch_id=937 Accuracy=99.27: 100%|██████████| 938/938 [00:27<00:00, 34.73it/s]\n"
          ]
        },
        {
          "output_type": "stream",
          "name": "stdout",
          "text": [
            "\n",
            "Test set: Average loss: 0.0217, Accuracy: 9929/10000 (99.29%)\n",
            "\n",
            "EPOCH: 17\n"
          ]
        },
        {
          "output_type": "stream",
          "name": "stderr",
          "text": [
            "Loss=0.003997347317636013 Batch_id=937 Accuracy=99.28: 100%|██████████| 938/938 [00:27<00:00, 34.21it/s]\n"
          ]
        },
        {
          "output_type": "stream",
          "name": "stdout",
          "text": [
            "\n",
            "Test set: Average loss: 0.0211, Accuracy: 9934/10000 (99.34%)\n",
            "\n",
            "EPOCH: 18\n"
          ]
        },
        {
          "output_type": "stream",
          "name": "stderr",
          "text": [
            "Loss=0.0036417364608496428 Batch_id=937 Accuracy=99.29: 100%|██████████| 938/938 [00:27<00:00, 34.36it/s]\n"
          ]
        },
        {
          "output_type": "stream",
          "name": "stdout",
          "text": [
            "\n",
            "Test set: Average loss: 0.0221, Accuracy: 9929/10000 (99.29%)\n",
            "\n",
            "EPOCH: 19\n"
          ]
        },
        {
          "output_type": "stream",
          "name": "stderr",
          "text": [
            "Loss=0.025913890451192856 Batch_id=937 Accuracy=99.25: 100%|██████████| 938/938 [00:27<00:00, 34.55it/s]\n"
          ]
        },
        {
          "output_type": "stream",
          "name": "stdout",
          "text": [
            "\n",
            "Test set: Average loss: 0.0212, Accuracy: 9930/10000 (99.30%)\n",
            "\n"
          ]
        }
      ]
    },
    {
      "cell_type": "code",
      "metadata": {
        "colab": {
          "base_uri": "https://localhost:8080/",
          "height": 398
        },
        "id": "DoMtHmMlu8uu",
        "outputId": "1f139e0d-47f0-44dd-8495-f50829f8d5e3"
      },
      "source": [
        "(\n",
        "    true_wrong, incorrect_examples, pred_wrong\n",
        " ) = get_incorrect_preds(model, test_dataloader)\n",
        "plot_incorrect_preds(true_wrong, incorrect_examples, pred_wrong)"
      ],
      "execution_count": 8,
      "outputs": [
        {
          "output_type": "stream",
          "name": "stderr",
          "text": [
            "/usr/local/lib/python3.7/dist-packages/torch/utils/data/dataloader.py:481: UserWarning: This DataLoader will create 4 worker processes in total. Our suggested max number of worker in current system is 2, which is smaller than what this DataLoader is going to create. Please be aware that excessive worker creation might get DataLoader running slow or even freeze, lower the worker number to avoid potential slowness/freeze if necessary.\n",
            "  cpuset_checked))\n"
          ]
        },
        {
          "output_type": "stream",
          "name": "stdout",
          "text": [
            "Classes in order Actual and Predicted\n"
          ]
        },
        {
          "output_type": "display_data",
          "data": {
            "image/png": "[encoded data removed]",
            "text/plain": [
              "<Figure size 1008x432 with 10 Axes>"
            ]
          },
          "metadata": {
            "needs_background": "light"
          }
        }
      ]
    },
    {
      "cell_type": "code",
      "metadata": {
        "id": "yRUlssnT6ppS"
      },
      "source": [
        "del model, optimizer, scheduler"
      ],
      "execution_count": 9,
      "outputs": []
    },
    {
      "cell_type": "markdown",
      "metadata": {
        "id": "pKgWOdjN6q7E"
      },
      "source": [
        "## MODEL 1\n",
        "- Group Normalization Only"
      ]
    },
    {
      "cell_type": "code",
      "metadata": {
        "colab": {
          "base_uri": "https://localhost:8080/"
        },
        "id": "5bbjaLgSu2hB",
        "outputId": "b6aa8614-012a-4172-8b76-1020cfa59ebf"
      },
      "source": [
        "exp_name = 'Group norm only'\n",
        "model = Net(\n",
        "    batch_norm=False,\n",
        "    layer_norm=False,\n",
        "    group_norm=True,\n",
        "    group_norm_groups=2,\n",
        ").to(device)\n",
        "summary(model, input_size=(1, 28, 28))\n",
        "\n",
        "optimizer = optim.SGD(model.parameters(), lr=0.1, momentum=0.9)\n",
        "scheduler = StepLR(optimizer, step_size=8, gamma=0.01)\n",
        "\n",
        "EPOCHS = 20\n",
        "for epoch in range(EPOCHS):\n",
        "    print(\"EPOCH:\", epoch)\n",
        "    train_batch_loss, train_batch_acc = train_model(\n",
        "        model, device, train_dataloader, optimizer, epoch\n",
        "    )\n",
        "    test_loss, test_acc = test_model(model, device, test_dataloader)\n",
        "    scheduler.step()\n",
        "    \n",
        "    logs.append({\n",
        "        'epoch': epoch,\n",
        "        'train_losses': np.mean(train_batch_loss),\n",
        "        'test_losses': test_loss,\n",
        "        'train_acc': np.mean(train_batch_acc),\n",
        "        'test_acc': test_acc,\n",
        "        'exp': exp_name,\n",
        "    })"
      ],
      "execution_count": 11,
      "outputs": [
        {
          "output_type": "stream",
          "name": "stdout",
          "text": [
            "----------------------------------------------------------------\n",
            "        Layer (type)               Output Shape         Param #\n",
            "================================================================\n",
            "            Conv2d-1            [-1, 8, 26, 26]              72\n",
            "              ReLU-2            [-1, 8, 26, 26]               0\n",
            "         GroupNorm-3            [-1, 8, 26, 26]              16\n",
            "           Dropout-4            [-1, 8, 26, 26]               0\n",
            "        conv_block-5            [-1, 8, 26, 26]               0\n",
            "            Conv2d-6           [-1, 16, 24, 24]           1,152\n",
            "              ReLU-7           [-1, 16, 24, 24]               0\n",
            "         GroupNorm-8           [-1, 16, 24, 24]              32\n",
            "           Dropout-9           [-1, 16, 24, 24]               0\n",
            "       conv_block-10           [-1, 16, 24, 24]               0\n",
            "           Conv2d-11            [-1, 8, 24, 24]             128\n",
            "       conv_block-12            [-1, 8, 24, 24]               0\n",
            "        MaxPool2d-13            [-1, 8, 12, 12]               0\n",
            "           Conv2d-14           [-1, 12, 10, 10]             864\n",
            "             ReLU-15           [-1, 12, 10, 10]               0\n",
            "        GroupNorm-16           [-1, 12, 10, 10]              24\n",
            "          Dropout-17           [-1, 12, 10, 10]               0\n",
            "       conv_block-18           [-1, 12, 10, 10]               0\n",
            "           Conv2d-19             [-1, 14, 8, 8]           1,512\n",
            "             ReLU-20             [-1, 14, 8, 8]               0\n",
            "        GroupNorm-21             [-1, 14, 8, 8]              28\n",
            "          Dropout-22             [-1, 14, 8, 8]               0\n",
            "       conv_block-23             [-1, 14, 8, 8]               0\n",
            "           Conv2d-24             [-1, 14, 8, 8]           1,764\n",
            "             ReLU-25             [-1, 14, 8, 8]               0\n",
            "        GroupNorm-26             [-1, 14, 8, 8]              28\n",
            "          Dropout-27             [-1, 14, 8, 8]               0\n",
            "       conv_block-28             [-1, 14, 8, 8]               0\n",
            "        AvgPool2d-29             [-1, 14, 1, 1]               0\n",
            "           Conv2d-30             [-1, 10, 1, 1]             140\n",
            "       conv_block-31             [-1, 10, 1, 1]               0\n",
            "================================================================\n",
            "Total params: 5,760\n",
            "Trainable params: 5,760\n",
            "Non-trainable params: 0\n",
            "----------------------------------------------------------------\n",
            "Input size (MB): 0.00\n",
            "Forward/backward pass size (MB): 0.75\n",
            "Params size (MB): 0.02\n",
            "Estimated Total Size (MB): 0.78\n",
            "----------------------------------------------------------------\n",
            "EPOCH: 0\n"
          ]
        },
        {
          "output_type": "stream",
          "name": "stderr",
          "text": [
            "\r  0%|          | 0/938 [00:00<?, ?it/s]/usr/local/lib/python3.7/dist-packages/torch/utils/data/dataloader.py:481: UserWarning: This DataLoader will create 4 worker processes in total. Our suggested max number of worker in current system is 2, which is smaller than what this DataLoader is going to create. Please be aware that excessive worker creation might get DataLoader running slow or even freeze, lower the worker number to avoid potential slowness/freeze if necessary.\n",
            "  cpuset_checked))\n",
            "Loss=0.0701524019241333 Batch_id=937 Accuracy=92.28: 100%|██████████| 938/938 [00:27<00:00, 33.98it/s]\n"
          ]
        },
        {
          "output_type": "stream",
          "name": "stdout",
          "text": [
            "\n",
            "Test set: Average loss: 0.0708, Accuracy: 9775/10000 (97.75%)\n",
            "\n",
            "EPOCH: 1\n"
          ]
        },
        {
          "output_type": "stream",
          "name": "stderr",
          "text": [
            "Loss=0.08862143754959106 Batch_id=937 Accuracy=97.44: 100%|██████████| 938/938 [00:27<00:00, 34.26it/s]\n"
          ]
        },
        {
          "output_type": "stream",
          "name": "stdout",
          "text": [
            "\n",
            "Test set: Average loss: 0.0496, Accuracy: 9838/10000 (98.38%)\n",
            "\n",
            "EPOCH: 2\n"
          ]
        },
        {
          "output_type": "stream",
          "name": "stderr",
          "text": [
            "Loss=0.19783926010131836 Batch_id=937 Accuracy=98.01: 100%|██████████| 938/938 [00:27<00:00, 34.48it/s]\n"
          ]
        },
        {
          "output_type": "stream",
          "name": "stdout",
          "text": [
            "\n",
            "Test set: Average loss: 0.0372, Accuracy: 9876/10000 (98.76%)\n",
            "\n",
            "EPOCH: 3\n"
          ]
        },
        {
          "output_type": "stream",
          "name": "stderr",
          "text": [
            "Loss=0.10584836453199387 Batch_id=937 Accuracy=98.19: 100%|██████████| 938/938 [00:27<00:00, 34.52it/s]\n"
          ]
        },
        {
          "output_type": "stream",
          "name": "stdout",
          "text": [
            "\n",
            "Test set: Average loss: 0.0395, Accuracy: 9877/10000 (98.77%)\n",
            "\n",
            "EPOCH: 4\n"
          ]
        },
        {
          "output_type": "stream",
          "name": "stderr",
          "text": [
            "Loss=0.03884228691458702 Batch_id=937 Accuracy=98.36: 100%|██████████| 938/938 [00:26<00:00, 34.78it/s]\n"
          ]
        },
        {
          "output_type": "stream",
          "name": "stdout",
          "text": [
            "\n",
            "Test set: Average loss: 0.0442, Accuracy: 9867/10000 (98.67%)\n",
            "\n",
            "EPOCH: 5\n"
          ]
        },
        {
          "output_type": "stream",
          "name": "stderr",
          "text": [
            "Loss=0.0013131184969097376 Batch_id=937 Accuracy=98.53: 100%|██████████| 938/938 [00:27<00:00, 34.31it/s]\n"
          ]
        },
        {
          "output_type": "stream",
          "name": "stdout",
          "text": [
            "\n",
            "Test set: Average loss: 0.0329, Accuracy: 9905/10000 (99.05%)\n",
            "\n",
            "EPOCH: 6\n"
          ]
        },
        {
          "output_type": "stream",
          "name": "stderr",
          "text": [
            "Loss=0.03944424167275429 Batch_id=937 Accuracy=98.59: 100%|██████████| 938/938 [00:27<00:00, 34.33it/s]\n"
          ]
        },
        {
          "output_type": "stream",
          "name": "stdout",
          "text": [
            "\n",
            "Test set: Average loss: 0.0344, Accuracy: 9893/10000 (98.93%)\n",
            "\n",
            "EPOCH: 7\n"
          ]
        },
        {
          "output_type": "stream",
          "name": "stderr",
          "text": [
            "Loss=0.007532110437750816 Batch_id=937 Accuracy=98.72: 100%|██████████| 938/938 [00:27<00:00, 34.54it/s]\n"
          ]
        },
        {
          "output_type": "stream",
          "name": "stdout",
          "text": [
            "\n",
            "Test set: Average loss: 0.0339, Accuracy: 9888/10000 (98.88%)\n",
            "\n",
            "EPOCH: 8\n"
          ]
        },
        {
          "output_type": "stream",
          "name": "stderr",
          "text": [
            "Loss=0.12802740931510925 Batch_id=937 Accuracy=98.97: 100%|██████████| 938/938 [00:27<00:00, 34.43it/s]\n"
          ]
        },
        {
          "output_type": "stream",
          "name": "stdout",
          "text": [
            "\n",
            "Test set: Average loss: 0.0247, Accuracy: 9920/10000 (99.20%)\n",
            "\n",
            "EPOCH: 9\n"
          ]
        },
        {
          "output_type": "stream",
          "name": "stderr",
          "text": [
            "Loss=0.09718471020460129 Batch_id=937 Accuracy=99.09: 100%|██████████| 938/938 [00:27<00:00, 34.52it/s]\n"
          ]
        },
        {
          "output_type": "stream",
          "name": "stdout",
          "text": [
            "\n",
            "Test set: Average loss: 0.0242, Accuracy: 9924/10000 (99.24%)\n",
            "\n",
            "EPOCH: 10\n"
          ]
        },
        {
          "output_type": "stream",
          "name": "stderr",
          "text": [
            "Loss=0.009035423398017883 Batch_id=937 Accuracy=99.16: 100%|██████████| 938/938 [00:27<00:00, 34.58it/s]\n"
          ]
        },
        {
          "output_type": "stream",
          "name": "stdout",
          "text": [
            "\n",
            "Test set: Average loss: 0.0234, Accuracy: 9926/10000 (99.26%)\n",
            "\n",
            "EPOCH: 11\n"
          ]
        },
        {
          "output_type": "stream",
          "name": "stderr",
          "text": [
            "Loss=0.05135620757937431 Batch_id=937 Accuracy=99.15: 100%|██████████| 938/938 [00:27<00:00, 34.32it/s]\n"
          ]
        },
        {
          "output_type": "stream",
          "name": "stdout",
          "text": [
            "\n",
            "Test set: Average loss: 0.0232, Accuracy: 9925/10000 (99.25%)\n",
            "\n",
            "EPOCH: 12\n"
          ]
        },
        {
          "output_type": "stream",
          "name": "stderr",
          "text": [
            "Loss=0.0009885422186926007 Batch_id=937 Accuracy=99.14: 100%|██████████| 938/938 [00:27<00:00, 34.03it/s]\n"
          ]
        },
        {
          "output_type": "stream",
          "name": "stdout",
          "text": [
            "\n",
            "Test set: Average loss: 0.0230, Accuracy: 9927/10000 (99.27%)\n",
            "\n",
            "EPOCH: 13\n"
          ]
        },
        {
          "output_type": "stream",
          "name": "stderr",
          "text": [
            "Loss=0.0007600673707202077 Batch_id=937 Accuracy=99.16: 100%|██████████| 938/938 [00:27<00:00, 33.97it/s]\n"
          ]
        },
        {
          "output_type": "stream",
          "name": "stdout",
          "text": [
            "\n",
            "Test set: Average loss: 0.0228, Accuracy: 9927/10000 (99.27%)\n",
            "\n",
            "EPOCH: 14\n"
          ]
        },
        {
          "output_type": "stream",
          "name": "stderr",
          "text": [
            "Loss=0.00445520831272006 Batch_id=937 Accuracy=99.14: 100%|██████████| 938/938 [00:27<00:00, 34.18it/s]\n"
          ]
        },
        {
          "output_type": "stream",
          "name": "stdout",
          "text": [
            "\n",
            "Test set: Average loss: 0.0226, Accuracy: 9929/10000 (99.29%)\n",
            "\n",
            "EPOCH: 15\n"
          ]
        },
        {
          "output_type": "stream",
          "name": "stderr",
          "text": [
            "Loss=0.002104551997035742 Batch_id=937 Accuracy=99.17: 100%|██████████| 938/938 [00:27<00:00, 34.25it/s]\n"
          ]
        },
        {
          "output_type": "stream",
          "name": "stdout",
          "text": [
            "\n",
            "Test set: Average loss: 0.0224, Accuracy: 9928/10000 (99.28%)\n",
            "\n",
            "EPOCH: 16\n"
          ]
        },
        {
          "output_type": "stream",
          "name": "stderr",
          "text": [
            "Loss=0.25545427203178406 Batch_id=937 Accuracy=99.20: 100%|██████████| 938/938 [00:27<00:00, 33.73it/s]\n"
          ]
        },
        {
          "output_type": "stream",
          "name": "stdout",
          "text": [
            "\n",
            "Test set: Average loss: 0.0224, Accuracy: 9928/10000 (99.28%)\n",
            "\n",
            "EPOCH: 17\n"
          ]
        },
        {
          "output_type": "stream",
          "name": "stderr",
          "text": [
            "Loss=0.015224801376461983 Batch_id=937 Accuracy=99.22: 100%|██████████| 938/938 [00:27<00:00, 33.68it/s]\n"
          ]
        },
        {
          "output_type": "stream",
          "name": "stdout",
          "text": [
            "\n",
            "Test set: Average loss: 0.0224, Accuracy: 9928/10000 (99.28%)\n",
            "\n",
            "EPOCH: 18\n"
          ]
        },
        {
          "output_type": "stream",
          "name": "stderr",
          "text": [
            "Loss=0.00927506573498249 Batch_id=937 Accuracy=99.21: 100%|██████████| 938/938 [00:27<00:00, 33.85it/s]\n"
          ]
        },
        {
          "output_type": "stream",
          "name": "stdout",
          "text": [
            "\n",
            "Test set: Average loss: 0.0224, Accuracy: 9928/10000 (99.28%)\n",
            "\n",
            "EPOCH: 19\n"
          ]
        },
        {
          "output_type": "stream",
          "name": "stderr",
          "text": [
            "Loss=0.004569954704493284 Batch_id=937 Accuracy=99.21: 100%|██████████| 938/938 [00:27<00:00, 33.97it/s]\n"
          ]
        },
        {
          "output_type": "stream",
          "name": "stdout",
          "text": [
            "\n",
            "Test set: Average loss: 0.0224, Accuracy: 9928/10000 (99.28%)\n",
            "\n"
          ]
        }
      ]
    },
    {
      "cell_type": "code",
      "metadata": {
        "colab": {
          "base_uri": "https://localhost:8080/",
          "height": 398
        },
        "id": "6Lzjlfig-O-K",
        "outputId": "8faa550d-f119-466e-f2a8-b663fd5a7e14"
      },
      "source": [
        "(\n",
        "    true_wrong, incorrect_examples, pred_wrong\n",
        " ) = get_incorrect_preds(model, test_dataloader)\n",
        "plot_incorrect_preds(true_wrong, incorrect_examples, pred_wrong)"
      ],
      "execution_count": 12,
      "outputs": [
        {
          "output_type": "stream",
          "name": "stderr",
          "text": [
            "/usr/local/lib/python3.7/dist-packages/torch/utils/data/dataloader.py:481: UserWarning: This DataLoader will create 4 worker processes in total. Our suggested max number of worker in current system is 2, which is smaller than what this DataLoader is going to create. Please be aware that excessive worker creation might get DataLoader running slow or even freeze, lower the worker number to avoid potential slowness/freeze if necessary.\n",
            "  cpuset_checked))\n"
          ]
        },
        {
          "output_type": "stream",
          "name": "stdout",
          "text": [
            "Classes in order Actual and Predicted\n"
          ]
        },
        {
          "output_type": "display_data",
          "data": {
            "image/png": "[encoded data removed]",
            "text/plain": [
              "<Figure size 1008x432 with 10 Axes>"
            ]
          },
          "metadata": {
            "needs_background": "light"
          }
        }
      ]
    },
    {
      "cell_type": "code",
      "metadata": {
        "id": "jENr9Fh1-O71"
      },
      "source": [
        "del model, optimizer, scheduler"
      ],
      "execution_count": 13,
      "outputs": []
    },
    {
      "cell_type": "code",
      "metadata": {
        "id": "C9Ij5--O-O5G"
      },
      "source": [
        ""
      ],
      "execution_count": null,
      "outputs": []
    },
    {
      "cell_type": "markdown",
      "metadata": {
        "id": "8LLWi27K6sAO"
      },
      "source": [
        "## MODEL 2\n",
        "-  Layer Normalization Only"
      ]
    },
    {
      "cell_type": "code",
      "metadata": {
        "colab": {
          "base_uri": "https://localhost:8080/"
        },
        "id": "UyKPm0jvunA1",
        "outputId": "be799078-c2ce-4f94-ea6c-c3993f5b34f6"
      },
      "source": [
        "exp_name = 'Layer norm only'\n",
        "model = Net(\n",
        "    batch_norm=False,\n",
        "    layer_norm=True,\n",
        "    group_norm=False,\n",
        ").to(device)\n",
        "summary(model, input_size=(1, 28, 28))\n",
        "\n",
        "optimizer = optim.SGD(model.parameters(), lr=0.1, momentum=0.9)\n",
        "scheduler = StepLR(optimizer, step_size=8, gamma=0.01)\n",
        "\n",
        "EPOCHS = 20\n",
        "for epoch in range(EPOCHS):\n",
        "    print(\"EPOCH:\", epoch)\n",
        "    train_batch_loss, train_batch_acc = train_model(\n",
        "        model, device, train_dataloader, optimizer, epoch\n",
        "    )\n",
        "    test_loss, test_acc = test_model(model, device, test_dataloader)\n",
        "    scheduler.step()\n",
        "    \n",
        "    logs.append({\n",
        "        'epoch': epoch,\n",
        "        'train_losses': np.mean(train_batch_loss),\n",
        "        'test_losses': test_loss,\n",
        "        'train_acc': np.mean(train_batch_acc),\n",
        "        'test_acc': test_acc,\n",
        "        'exp': exp_name,\n",
        "    })"
      ],
      "execution_count": 15,
      "outputs": [
        {
          "output_type": "stream",
          "name": "stdout",
          "text": [
            "----------------------------------------------------------------\n",
            "        Layer (type)               Output Shape         Param #\n",
            "================================================================\n",
            "            Conv2d-1            [-1, 8, 26, 26]              72\n",
            "              ReLU-2            [-1, 8, 26, 26]               0\n",
            "         GroupNorm-3            [-1, 8, 26, 26]              16\n",
            "           Dropout-4            [-1, 8, 26, 26]               0\n",
            "        conv_block-5            [-1, 8, 26, 26]               0\n",
            "            Conv2d-6           [-1, 16, 24, 24]           1,152\n",
            "              ReLU-7           [-1, 16, 24, 24]               0\n",
            "         GroupNorm-8           [-1, 16, 24, 24]              32\n",
            "           Dropout-9           [-1, 16, 24, 24]               0\n",
            "       conv_block-10           [-1, 16, 24, 24]               0\n",
            "           Conv2d-11            [-1, 8, 24, 24]             128\n",
            "       conv_block-12            [-1, 8, 24, 24]               0\n",
            "        MaxPool2d-13            [-1, 8, 12, 12]               0\n",
            "           Conv2d-14           [-1, 12, 10, 10]             864\n",
            "             ReLU-15           [-1, 12, 10, 10]               0\n",
            "        GroupNorm-16           [-1, 12, 10, 10]              24\n",
            "          Dropout-17           [-1, 12, 10, 10]               0\n",
            "       conv_block-18           [-1, 12, 10, 10]               0\n",
            "           Conv2d-19             [-1, 14, 8, 8]           1,512\n",
            "             ReLU-20             [-1, 14, 8, 8]               0\n",
            "        GroupNorm-21             [-1, 14, 8, 8]              28\n",
            "          Dropout-22             [-1, 14, 8, 8]               0\n",
            "       conv_block-23             [-1, 14, 8, 8]               0\n",
            "           Conv2d-24             [-1, 14, 8, 8]           1,764\n",
            "             ReLU-25             [-1, 14, 8, 8]               0\n",
            "        GroupNorm-26             [-1, 14, 8, 8]              28\n",
            "          Dropout-27             [-1, 14, 8, 8]               0\n",
            "       conv_block-28             [-1, 14, 8, 8]               0\n",
            "        AvgPool2d-29             [-1, 14, 1, 1]               0\n",
            "           Conv2d-30             [-1, 10, 1, 1]             140\n",
            "       conv_block-31             [-1, 10, 1, 1]               0\n",
            "================================================================\n",
            "Total params: 5,760\n",
            "Trainable params: 5,760\n",
            "Non-trainable params: 0\n",
            "----------------------------------------------------------------\n",
            "Input size (MB): 0.00\n",
            "Forward/backward pass size (MB): 0.75\n",
            "Params size (MB): 0.02\n",
            "Estimated Total Size (MB): 0.78\n",
            "----------------------------------------------------------------\n",
            "EPOCH: 0\n"
          ]
        },
        {
          "output_type": "stream",
          "name": "stderr",
          "text": [
            "\r  0%|          | 0/938 [00:00<?, ?it/s]/usr/local/lib/python3.7/dist-packages/torch/utils/data/dataloader.py:481: UserWarning: This DataLoader will create 4 worker processes in total. Our suggested max number of worker in current system is 2, which is smaller than what this DataLoader is going to create. Please be aware that excessive worker creation might get DataLoader running slow or even freeze, lower the worker number to avoid potential slowness/freeze if necessary.\n",
            "  cpuset_checked))\n",
            "Loss=0.07048404216766357 Batch_id=937 Accuracy=91.19: 100%|██████████| 938/938 [00:27<00:00, 34.23it/s]\n"
          ]
        },
        {
          "output_type": "stream",
          "name": "stdout",
          "text": [
            "\n",
            "Test set: Average loss: 0.0705, Accuracy: 9783/10000 (97.83%)\n",
            "\n",
            "EPOCH: 1\n"
          ]
        },
        {
          "output_type": "stream",
          "name": "stderr",
          "text": [
            "Loss=0.04831134155392647 Batch_id=937 Accuracy=97.42: 100%|██████████| 938/938 [00:27<00:00, 34.57it/s]\n"
          ]
        },
        {
          "output_type": "stream",
          "name": "stdout",
          "text": [
            "\n",
            "Test set: Average loss: 0.0859, Accuracy: 9731/10000 (97.31%)\n",
            "\n",
            "EPOCH: 2\n"
          ]
        },
        {
          "output_type": "stream",
          "name": "stderr",
          "text": [
            "Loss=0.02141459658741951 Batch_id=937 Accuracy=98.02: 100%|██████████| 938/938 [00:27<00:00, 34.47it/s]\n"
          ]
        },
        {
          "output_type": "stream",
          "name": "stdout",
          "text": [
            "\n",
            "Test set: Average loss: 0.0394, Accuracy: 9881/10000 (98.81%)\n",
            "\n",
            "EPOCH: 3\n"
          ]
        },
        {
          "output_type": "stream",
          "name": "stderr",
          "text": [
            "Loss=0.07072998583316803 Batch_id=937 Accuracy=98.24: 100%|██████████| 938/938 [00:27<00:00, 34.21it/s]\n"
          ]
        },
        {
          "output_type": "stream",
          "name": "stdout",
          "text": [
            "\n",
            "Test set: Average loss: 0.0350, Accuracy: 9884/10000 (98.84%)\n",
            "\n",
            "EPOCH: 4\n"
          ]
        },
        {
          "output_type": "stream",
          "name": "stderr",
          "text": [
            "Loss=0.0027645775116980076 Batch_id=937 Accuracy=98.56: 100%|██████████| 938/938 [00:27<00:00, 34.47it/s]\n"
          ]
        },
        {
          "output_type": "stream",
          "name": "stdout",
          "text": [
            "\n",
            "Test set: Average loss: 0.0341, Accuracy: 9899/10000 (98.99%)\n",
            "\n",
            "EPOCH: 5\n"
          ]
        },
        {
          "output_type": "stream",
          "name": "stderr",
          "text": [
            "Loss=0.0011899210512638092 Batch_id=937 Accuracy=98.67: 100%|██████████| 938/938 [00:27<00:00, 34.45it/s]\n"
          ]
        },
        {
          "output_type": "stream",
          "name": "stdout",
          "text": [
            "\n",
            "Test set: Average loss: 0.0277, Accuracy: 9905/10000 (99.05%)\n",
            "\n",
            "EPOCH: 6\n"
          ]
        },
        {
          "output_type": "stream",
          "name": "stderr",
          "text": [
            "Loss=0.02008240669965744 Batch_id=937 Accuracy=98.66: 100%|██████████| 938/938 [00:27<00:00, 34.21it/s]\n"
          ]
        },
        {
          "output_type": "stream",
          "name": "stdout",
          "text": [
            "\n",
            "Test set: Average loss: 0.0366, Accuracy: 9895/10000 (98.95%)\n",
            "\n",
            "EPOCH: 7\n"
          ]
        },
        {
          "output_type": "stream",
          "name": "stderr",
          "text": [
            "Loss=0.0013908876571804285 Batch_id=937 Accuracy=98.74: 100%|██████████| 938/938 [00:27<00:00, 34.03it/s]\n"
          ]
        },
        {
          "output_type": "stream",
          "name": "stdout",
          "text": [
            "\n",
            "Test set: Average loss: 0.0277, Accuracy: 9905/10000 (99.05%)\n",
            "\n",
            "EPOCH: 8\n"
          ]
        },
        {
          "output_type": "stream",
          "name": "stderr",
          "text": [
            "Loss=0.0028887917287647724 Batch_id=937 Accuracy=99.05: 100%|██████████| 938/938 [00:27<00:00, 33.97it/s]\n"
          ]
        },
        {
          "output_type": "stream",
          "name": "stdout",
          "text": [
            "\n",
            "Test set: Average loss: 0.0225, Accuracy: 9935/10000 (99.35%)\n",
            "\n",
            "EPOCH: 9\n"
          ]
        },
        {
          "output_type": "stream",
          "name": "stderr",
          "text": [
            "Loss=0.004657492507249117 Batch_id=937 Accuracy=99.18: 100%|██████████| 938/938 [00:27<00:00, 33.78it/s]\n"
          ]
        },
        {
          "output_type": "stream",
          "name": "stdout",
          "text": [
            "\n",
            "Test set: Average loss: 0.0212, Accuracy: 9944/10000 (99.44%)\n",
            "\n",
            "EPOCH: 10\n"
          ]
        },
        {
          "output_type": "stream",
          "name": "stderr",
          "text": [
            "Loss=0.07144974917173386 Batch_id=937 Accuracy=99.19: 100%|██████████| 938/938 [00:27<00:00, 34.18it/s]\n"
          ]
        },
        {
          "output_type": "stream",
          "name": "stdout",
          "text": [
            "\n",
            "Test set: Average loss: 0.0206, Accuracy: 9942/10000 (99.42%)\n",
            "\n",
            "EPOCH: 11\n"
          ]
        },
        {
          "output_type": "stream",
          "name": "stderr",
          "text": [
            "Loss=0.00016599571972619742 Batch_id=937 Accuracy=99.24: 100%|██████████| 938/938 [00:27<00:00, 33.97it/s]\n"
          ]
        },
        {
          "output_type": "stream",
          "name": "stdout",
          "text": [
            "\n",
            "Test set: Average loss: 0.0203, Accuracy: 9943/10000 (99.43%)\n",
            "\n",
            "EPOCH: 12\n"
          ]
        },
        {
          "output_type": "stream",
          "name": "stderr",
          "text": [
            "Loss=0.0019847010262310505 Batch_id=937 Accuracy=99.25: 100%|██████████| 938/938 [00:27<00:00, 33.95it/s]\n"
          ]
        },
        {
          "output_type": "stream",
          "name": "stdout",
          "text": [
            "\n",
            "Test set: Average loss: 0.0199, Accuracy: 9944/10000 (99.44%)\n",
            "\n",
            "EPOCH: 13\n"
          ]
        },
        {
          "output_type": "stream",
          "name": "stderr",
          "text": [
            "Loss=0.010017955675721169 Batch_id=937 Accuracy=99.23: 100%|██████████| 938/938 [00:27<00:00, 34.14it/s]\n"
          ]
        },
        {
          "output_type": "stream",
          "name": "stdout",
          "text": [
            "\n",
            "Test set: Average loss: 0.0198, Accuracy: 9945/10000 (99.45%)\n",
            "\n",
            "EPOCH: 14\n"
          ]
        },
        {
          "output_type": "stream",
          "name": "stderr",
          "text": [
            "Loss=0.1528834104537964 Batch_id=937 Accuracy=99.24: 100%|██████████| 938/938 [00:27<00:00, 34.12it/s]\n"
          ]
        },
        {
          "output_type": "stream",
          "name": "stdout",
          "text": [
            "\n",
            "Test set: Average loss: 0.0196, Accuracy: 9946/10000 (99.46%)\n",
            "\n",
            "EPOCH: 15\n"
          ]
        },
        {
          "output_type": "stream",
          "name": "stderr",
          "text": [
            "Loss=0.0002756383328232914 Batch_id=937 Accuracy=99.27: 100%|██████████| 938/938 [00:27<00:00, 33.80it/s]\n"
          ]
        },
        {
          "output_type": "stream",
          "name": "stdout",
          "text": [
            "\n",
            "Test set: Average loss: 0.0196, Accuracy: 9947/10000 (99.47%)\n",
            "\n",
            "EPOCH: 16\n"
          ]
        },
        {
          "output_type": "stream",
          "name": "stderr",
          "text": [
            "Loss=0.01421409472823143 Batch_id=937 Accuracy=99.26: 100%|██████████| 938/938 [00:27<00:00, 34.20it/s]\n"
          ]
        },
        {
          "output_type": "stream",
          "name": "stdout",
          "text": [
            "\n",
            "Test set: Average loss: 0.0196, Accuracy: 9947/10000 (99.47%)\n",
            "\n",
            "EPOCH: 17\n"
          ]
        },
        {
          "output_type": "stream",
          "name": "stderr",
          "text": [
            "Loss=0.03494194149971008 Batch_id=937 Accuracy=99.28: 100%|██████████| 938/938 [00:27<00:00, 33.73it/s]\n"
          ]
        },
        {
          "output_type": "stream",
          "name": "stdout",
          "text": [
            "\n",
            "Test set: Average loss: 0.0196, Accuracy: 9947/10000 (99.47%)\n",
            "\n",
            "EPOCH: 18\n"
          ]
        },
        {
          "output_type": "stream",
          "name": "stderr",
          "text": [
            "Loss=0.020925749093294144 Batch_id=937 Accuracy=99.26: 100%|██████████| 938/938 [00:27<00:00, 33.74it/s]\n"
          ]
        },
        {
          "output_type": "stream",
          "name": "stdout",
          "text": [
            "\n",
            "Test set: Average loss: 0.0196, Accuracy: 9947/10000 (99.47%)\n",
            "\n",
            "EPOCH: 19\n"
          ]
        },
        {
          "output_type": "stream",
          "name": "stderr",
          "text": [
            "Loss=0.008758488111197948 Batch_id=937 Accuracy=99.26: 100%|██████████| 938/938 [00:28<00:00, 33.33it/s]\n"
          ]
        },
        {
          "output_type": "stream",
          "name": "stdout",
          "text": [
            "\n",
            "Test set: Average loss: 0.0196, Accuracy: 9947/10000 (99.47%)\n",
            "\n"
          ]
        }
      ]
    },
    {
      "cell_type": "code",
      "metadata": {
        "colab": {
          "base_uri": "https://localhost:8080/",
          "height": 398
        },
        "id": "0cMCQkzb-ktw",
        "outputId": "e8282ec9-8b6f-4d1a-f56a-15dcb8334a45"
      },
      "source": [
        "(\n",
        "    true_wrong, incorrect_examples, pred_wrong\n",
        " ) = get_incorrect_preds(model, test_dataloader)\n",
        "plot_incorrect_preds(true_wrong, incorrect_examples, pred_wrong)"
      ],
      "execution_count": 16,
      "outputs": [
        {
          "output_type": "stream",
          "name": "stderr",
          "text": [
            "/usr/local/lib/python3.7/dist-packages/torch/utils/data/dataloader.py:481: UserWarning: This DataLoader will create 4 worker processes in total. Our suggested max number of worker in current system is 2, which is smaller than what this DataLoader is going to create. Please be aware that excessive worker creation might get DataLoader running slow or even freeze, lower the worker number to avoid potential slowness/freeze if necessary.\n",
            "  cpuset_checked))\n"
          ]
        },
        {
          "output_type": "stream",
          "name": "stdout",
          "text": [
            "Classes in order Actual and Predicted\n"
          ]
        },
        {
          "output_type": "display_data",
          "data": {
            "image/png": "[encoded data removed]",
            "text/plain": [
              "<Figure size 1008x432 with 10 Axes>"
            ]
          },
          "metadata": {
            "needs_background": "light"
          }
        }
      ]
    },
    {
      "cell_type": "code",
      "metadata": {
        "id": "yrgG0gw1B6AL"
      },
      "source": [
        "del model, optimizer, scheduler"
      ],
      "execution_count": 17,
      "outputs": []
    },
    {
      "cell_type": "code",
      "metadata": {
        "id": "QRxirsHFB8pd"
      },
      "source": [
        ""
      ],
      "execution_count": null,
      "outputs": []
    },
    {
      "cell_type": "markdown",
      "metadata": {
        "id": "3JnFcgSX6xMx"
      },
      "source": [
        "## MODEL 3\n",
        "- Batch Normalization and L1"
      ]
    },
    {
      "cell_type": "code",
      "metadata": {
        "colab": {
          "base_uri": "https://localhost:8080/"
        },
        "id": "55pFGUAS67ta",
        "outputId": "8673f66c-faae-4523-a256-e728b6a26f65"
      },
      "source": [
        "exp_name = 'Batch norm and L1'\n",
        "model = Net(\n",
        "    batch_norm=True,\n",
        "    layer_norm=False,\n",
        "    group_norm=False,\n",
        ").to(device)\n",
        "summary(model, input_size=(1, 28, 28))\n",
        "\n",
        "optimizer = optim.SGD(model.parameters(), lr=0.1, momentum=0.9)\n",
        "scheduler = StepLR(optimizer, step_size=8, gamma=0.01)\n",
        "\n",
        "EPOCHS = 20\n",
        "for epoch in range(EPOCHS):\n",
        "    print(\"EPOCH:\", epoch)\n",
        "    train_batch_loss, train_batch_acc = train_model(\n",
        "        model, device, train_dataloader, optimizer, epoch, L1=True,\n",
        "    )\n",
        "    test_loss, test_acc = test_model(model, device, test_dataloader)\n",
        "    scheduler.step()\n",
        "    \n",
        "    logs.append({\n",
        "        'epoch': epoch,\n",
        "        'train_losses': np.mean(train_batch_loss),\n",
        "        'test_losses': test_loss,\n",
        "        'train_acc': np.mean(train_batch_acc),\n",
        "        'test_acc': test_acc,\n",
        "        'exp': exp_name,\n",
        "    })"
      ],
      "execution_count": 26,
      "outputs": [
        {
          "output_type": "stream",
          "name": "stdout",
          "text": [
            "----------------------------------------------------------------\n",
            "        Layer (type)               Output Shape         Param #\n",
            "================================================================\n",
            "            Conv2d-1            [-1, 8, 26, 26]              72\n",
            "              ReLU-2            [-1, 8, 26, 26]               0\n",
            "       BatchNorm2d-3            [-1, 8, 26, 26]              16\n",
            "           Dropout-4            [-1, 8, 26, 26]               0\n",
            "        conv_block-5            [-1, 8, 26, 26]               0\n",
            "            Conv2d-6           [-1, 16, 24, 24]           1,152\n",
            "              ReLU-7           [-1, 16, 24, 24]               0\n",
            "       BatchNorm2d-8           [-1, 16, 24, 24]              32\n",
            "           Dropout-9           [-1, 16, 24, 24]               0\n",
            "       conv_block-10           [-1, 16, 24, 24]               0\n",
            "           Conv2d-11            [-1, 8, 24, 24]             128\n",
            "       conv_block-12            [-1, 8, 24, 24]               0\n",
            "        MaxPool2d-13            [-1, 8, 12, 12]               0\n",
            "           Conv2d-14           [-1, 12, 10, 10]             864\n",
            "             ReLU-15           [-1, 12, 10, 10]               0\n",
            "      BatchNorm2d-16           [-1, 12, 10, 10]              24\n",
            "          Dropout-17           [-1, 12, 10, 10]               0\n",
            "       conv_block-18           [-1, 12, 10, 10]               0\n",
            "           Conv2d-19             [-1, 14, 8, 8]           1,512\n",
            "             ReLU-20             [-1, 14, 8, 8]               0\n",
            "      BatchNorm2d-21             [-1, 14, 8, 8]              28\n",
            "          Dropout-22             [-1, 14, 8, 8]               0\n",
            "       conv_block-23             [-1, 14, 8, 8]               0\n",
            "           Conv2d-24             [-1, 14, 8, 8]           1,764\n",
            "             ReLU-25             [-1, 14, 8, 8]               0\n",
            "      BatchNorm2d-26             [-1, 14, 8, 8]              28\n",
            "          Dropout-27             [-1, 14, 8, 8]               0\n",
            "       conv_block-28             [-1, 14, 8, 8]               0\n",
            "        AvgPool2d-29             [-1, 14, 1, 1]               0\n",
            "           Conv2d-30             [-1, 10, 1, 1]             140\n",
            "       conv_block-31             [-1, 10, 1, 1]               0\n",
            "================================================================\n",
            "Total params: 5,760\n",
            "Trainable params: 5,760\n",
            "Non-trainable params: 0\n",
            "----------------------------------------------------------------\n",
            "Input size (MB): 0.00\n",
            "Forward/backward pass size (MB): 0.75\n",
            "Params size (MB): 0.02\n",
            "Estimated Total Size (MB): 0.78\n",
            "----------------------------------------------------------------\n",
            "EPOCH: 0\n"
          ]
        },
        {
          "output_type": "stream",
          "name": "stderr",
          "text": [
            "\r  0%|          | 0/938 [00:00<?, ?it/s]/usr/local/lib/python3.7/dist-packages/torch/utils/data/dataloader.py:481: UserWarning: This DataLoader will create 4 worker processes in total. Our suggested max number of worker in current system is 2, which is smaller than what this DataLoader is going to create. Please be aware that excessive worker creation might get DataLoader running slow or even freeze, lower the worker number to avoid potential slowness/freeze if necessary.\n",
            "  cpuset_checked))\n",
            "Loss=7.56199836730957 Batch_id=937 Accuracy=10.82: 100%|██████████| 938/938 [00:31<00:00, 30.05it/s]\n"
          ]
        },
        {
          "output_type": "stream",
          "name": "stdout",
          "text": [
            "\n",
            "Test set: Average loss: 2.3026, Accuracy: 1032/10000 (10.32%)\n",
            "\n",
            "EPOCH: 1\n"
          ]
        },
        {
          "output_type": "stream",
          "name": "stderr",
          "text": [
            "Loss=7.631363868713379 Batch_id=937 Accuracy=10.17: 100%|██████████| 938/938 [00:30<00:00, 30.29it/s]\n"
          ]
        },
        {
          "output_type": "stream",
          "name": "stdout",
          "text": [
            "\n",
            "Test set: Average loss: 2.3026, Accuracy: 980/10000 (9.80%)\n",
            "\n",
            "EPOCH: 2\n"
          ]
        },
        {
          "output_type": "stream",
          "name": "stderr",
          "text": [
            "Loss=7.593167304992676 Batch_id=937 Accuracy=9.92: 100%|██████████| 938/938 [00:31<00:00, 30.12it/s]\n"
          ]
        },
        {
          "output_type": "stream",
          "name": "stdout",
          "text": [
            "\n",
            "Test set: Average loss: 2.3026, Accuracy: 974/10000 (9.74%)\n",
            "\n",
            "EPOCH: 3\n"
          ]
        },
        {
          "output_type": "stream",
          "name": "stderr",
          "text": [
            "Loss=7.582923889160156 Batch_id=937 Accuracy=10.20: 100%|██████████| 938/938 [00:31<00:00, 30.17it/s]\n"
          ]
        },
        {
          "output_type": "stream",
          "name": "stdout",
          "text": [
            "\n",
            "Test set: Average loss: 2.3026, Accuracy: 982/10000 (9.82%)\n",
            "\n",
            "EPOCH: 4\n"
          ]
        },
        {
          "output_type": "stream",
          "name": "stderr",
          "text": [
            "Loss=7.5467400550842285 Batch_id=937 Accuracy=10.07: 100%|██████████| 938/938 [00:31<00:00, 30.07it/s]\n"
          ]
        },
        {
          "output_type": "stream",
          "name": "stdout",
          "text": [
            "\n",
            "Test set: Average loss: 2.3026, Accuracy: 1032/10000 (10.32%)\n",
            "\n",
            "EPOCH: 5\n"
          ]
        },
        {
          "output_type": "stream",
          "name": "stderr",
          "text": [
            "Loss=7.618084907531738 Batch_id=937 Accuracy=9.87: 100%|██████████| 938/938 [00:31<00:00, 30.08it/s]\n"
          ]
        },
        {
          "output_type": "stream",
          "name": "stdout",
          "text": [
            "\n",
            "Test set: Average loss: 2.3026, Accuracy: 980/10000 (9.80%)\n",
            "\n",
            "EPOCH: 6\n"
          ]
        },
        {
          "output_type": "stream",
          "name": "stderr",
          "text": [
            "Loss=7.564870834350586 Batch_id=937 Accuracy=9.91: 100%|██████████| 938/938 [00:31<00:00, 30.06it/s]\n"
          ]
        },
        {
          "output_type": "stream",
          "name": "stdout",
          "text": [
            "\n",
            "Test set: Average loss: 2.3026, Accuracy: 980/10000 (9.80%)\n",
            "\n",
            "EPOCH: 7\n"
          ]
        },
        {
          "output_type": "stream",
          "name": "stderr",
          "text": [
            "Loss=7.517268657684326 Batch_id=937 Accuracy=10.11: 100%|██████████| 938/938 [00:31<00:00, 30.12it/s]\n"
          ]
        },
        {
          "output_type": "stream",
          "name": "stdout",
          "text": [
            "\n",
            "Test set: Average loss: 2.3026, Accuracy: 1009/10000 (10.09%)\n",
            "\n",
            "EPOCH: 8\n"
          ]
        },
        {
          "output_type": "stream",
          "name": "stderr",
          "text": [
            "Loss=2.358560800552368 Batch_id=937 Accuracy=9.91: 100%|██████████| 938/938 [00:31<00:00, 30.00it/s]\n"
          ]
        },
        {
          "output_type": "stream",
          "name": "stdout",
          "text": [
            "\n",
            "Test set: Average loss: 2.3026, Accuracy: 980/10000 (9.80%)\n",
            "\n",
            "EPOCH: 9\n"
          ]
        },
        {
          "output_type": "stream",
          "name": "stderr",
          "text": [
            "Loss=2.3599586486816406 Batch_id=937 Accuracy=9.87: 100%|██████████| 938/938 [00:31<00:00, 29.97it/s]\n"
          ]
        },
        {
          "output_type": "stream",
          "name": "stdout",
          "text": [
            "\n",
            "Test set: Average loss: 2.3026, Accuracy: 980/10000 (9.80%)\n",
            "\n",
            "EPOCH: 10\n"
          ]
        },
        {
          "output_type": "stream",
          "name": "stderr",
          "text": [
            "Loss=2.3590192794799805 Batch_id=937 Accuracy=9.87: 100%|██████████| 938/938 [00:31<00:00, 30.19it/s]\n"
          ]
        },
        {
          "output_type": "stream",
          "name": "stdout",
          "text": [
            "\n",
            "Test set: Average loss: 2.3026, Accuracy: 980/10000 (9.80%)\n",
            "\n",
            "EPOCH: 11\n"
          ]
        },
        {
          "output_type": "stream",
          "name": "stderr",
          "text": [
            "Loss=2.358628273010254 Batch_id=937 Accuracy=9.87: 100%|██████████| 938/938 [00:31<00:00, 30.22it/s]\n"
          ]
        },
        {
          "output_type": "stream",
          "name": "stdout",
          "text": [
            "\n",
            "Test set: Average loss: 2.3026, Accuracy: 980/10000 (9.80%)\n",
            "\n",
            "EPOCH: 12\n"
          ]
        },
        {
          "output_type": "stream",
          "name": "stderr",
          "text": [
            "Loss=2.358738422393799 Batch_id=937 Accuracy=9.87: 100%|██████████| 938/938 [00:31<00:00, 30.24it/s]\n"
          ]
        },
        {
          "output_type": "stream",
          "name": "stdout",
          "text": [
            "\n",
            "Test set: Average loss: 2.3026, Accuracy: 980/10000 (9.80%)\n",
            "\n",
            "EPOCH: 13\n"
          ]
        },
        {
          "output_type": "stream",
          "name": "stderr",
          "text": [
            "Loss=2.3582186698913574 Batch_id=937 Accuracy=9.87: 100%|██████████| 938/938 [00:30<00:00, 30.28it/s]\n"
          ]
        },
        {
          "output_type": "stream",
          "name": "stdout",
          "text": [
            "\n",
            "Test set: Average loss: 2.3026, Accuracy: 980/10000 (9.80%)\n",
            "\n",
            "EPOCH: 14\n"
          ]
        },
        {
          "output_type": "stream",
          "name": "stderr",
          "text": [
            "Loss=2.357438802719116 Batch_id=937 Accuracy=9.87: 100%|██████████| 938/938 [00:30<00:00, 30.48it/s]\n"
          ]
        },
        {
          "output_type": "stream",
          "name": "stdout",
          "text": [
            "\n",
            "Test set: Average loss: 2.3026, Accuracy: 980/10000 (9.80%)\n",
            "\n",
            "EPOCH: 15\n"
          ]
        },
        {
          "output_type": "stream",
          "name": "stderr",
          "text": [
            "Loss=2.3587405681610107 Batch_id=937 Accuracy=9.87: 100%|██████████| 938/938 [00:30<00:00, 30.28it/s]\n"
          ]
        },
        {
          "output_type": "stream",
          "name": "stdout",
          "text": [
            "\n",
            "Test set: Average loss: 2.3026, Accuracy: 980/10000 (9.80%)\n",
            "\n",
            "EPOCH: 16\n"
          ]
        },
        {
          "output_type": "stream",
          "name": "stderr",
          "text": [
            "Loss=2.30314302444458 Batch_id=937 Accuracy=9.87: 100%|██████████| 938/938 [00:31<00:00, 30.19it/s]\n"
          ]
        },
        {
          "output_type": "stream",
          "name": "stdout",
          "text": [
            "\n",
            "Test set: Average loss: 2.3026, Accuracy: 980/10000 (9.80%)\n",
            "\n",
            "EPOCH: 17\n"
          ]
        },
        {
          "output_type": "stream",
          "name": "stderr",
          "text": [
            "Loss=2.3031437397003174 Batch_id=937 Accuracy=9.87: 100%|██████████| 938/938 [00:31<00:00, 30.08it/s]\n"
          ]
        },
        {
          "output_type": "stream",
          "name": "stdout",
          "text": [
            "\n",
            "Test set: Average loss: 2.3026, Accuracy: 980/10000 (9.80%)\n",
            "\n",
            "EPOCH: 18\n"
          ]
        },
        {
          "output_type": "stream",
          "name": "stderr",
          "text": [
            "Loss=2.3031489849090576 Batch_id=937 Accuracy=9.87: 100%|██████████| 938/938 [00:31<00:00, 30.17it/s]\n"
          ]
        },
        {
          "output_type": "stream",
          "name": "stdout",
          "text": [
            "\n",
            "Test set: Average loss: 2.3026, Accuracy: 980/10000 (9.80%)\n",
            "\n",
            "EPOCH: 19\n"
          ]
        },
        {
          "output_type": "stream",
          "name": "stderr",
          "text": [
            "Loss=2.3031511306762695 Batch_id=937 Accuracy=9.87: 100%|██████████| 938/938 [00:31<00:00, 30.14it/s]\n"
          ]
        },
        {
          "output_type": "stream",
          "name": "stdout",
          "text": [
            "\n",
            "Test set: Average loss: 2.3026, Accuracy: 980/10000 (9.80%)\n",
            "\n"
          ]
        }
      ]
    },
    {
      "cell_type": "code",
      "metadata": {
        "colab": {
          "base_uri": "https://localhost:8080/",
          "height": 398
        },
        "id": "VMaiW4NDB_g0",
        "outputId": "524241ba-d575-45ef-97e7-2712593ae635"
      },
      "source": [
        "(\n",
        "    true_wrong, incorrect_examples, pred_wrong\n",
        " ) = get_incorrect_preds(model, test_dataloader)\n",
        "plot_incorrect_preds(true_wrong, incorrect_examples, pred_wrong)"
      ],
      "execution_count": 27,
      "outputs": [
        {
          "output_type": "stream",
          "name": "stderr",
          "text": [
            "/usr/local/lib/python3.7/dist-packages/torch/utils/data/dataloader.py:481: UserWarning: This DataLoader will create 4 worker processes in total. Our suggested max number of worker in current system is 2, which is smaller than what this DataLoader is going to create. Please be aware that excessive worker creation might get DataLoader running slow or even freeze, lower the worker number to avoid potential slowness/freeze if necessary.\n",
            "  cpuset_checked))\n"
          ]
        },
        {
          "output_type": "stream",
          "name": "stdout",
          "text": [
            "Classes in order Actual and Predicted\n"
          ]
        },
        {
          "output_type": "display_data",
          "data": {
            "image/png": "[encoded data removed]",
            "text/plain": [
              "<Figure size 1008x432 with 10 Axes>"
            ]
          },
          "metadata": {
            "needs_background": "light"
          }
        }
      ]
    },
    {
      "cell_type": "code",
      "metadata": {
        "id": "Hl2ZDxv5B_dy"
      },
      "source": [
        "del model, optimizer, scheduler"
      ],
      "execution_count": 28,
      "outputs": []
    },
    {
      "cell_type": "code",
      "metadata": {
        "id": "jv07SdA76x0M"
      },
      "source": [
        ""
      ],
      "execution_count": 13,
      "outputs": []
    },
    {
      "cell_type": "markdown",
      "metadata": {
        "id": "0xmO7r0X-lg_"
      },
      "source": [
        "# Analysis"
      ]
    },
    {
      "cell_type": "code",
      "metadata": {
        "colab": {
          "base_uri": "https://localhost:8080/",
          "height": 419
        },
        "id": "AoIAAeZ8-i1t",
        "outputId": "f2885fac-82fe-400f-cb8c-c802968a0f78"
      },
      "source": [
        "logs_df = pd.DataFrame(logs)\n",
        "logs_df"
      ],
      "execution_count": 34,
      "outputs": [
        {
          "output_type": "execute_result",
          "data": {
            "text/html": [
              "<div>\n",
              "<style scoped>\n",
              "    .dataframe tbody tr th:only-of-type {\n",
              "        vertical-align: middle;\n",
              "    }\n",
              "\n",
              "    .dataframe tbody tr th {\n",
              "        vertical-align: top;\n",
              "    }\n",
              "\n",
              "    .dataframe thead th {\n",
              "        text-align: right;\n",
              "    }\n",
              "</style>\n",
              "<table border=\"1\" class=\"dataframe\">\n",
              "  <thead>\n",
              "    <tr style=\"text-align: right;\">\n",
              "      <th></th>\n",
              "      <th>epoch</th>\n",
              "      <th>train_losses</th>\n",
              "      <th>test_losses</th>\n",
              "      <th>train_acc</th>\n",
              "      <th>test_acc</th>\n",
              "      <th>exp</th>\n",
              "    </tr>\n",
              "  </thead>\n",
              "  <tbody>\n",
              "    <tr>\n",
              "      <th>0</th>\n",
              "      <td>0</td>\n",
              "      <td>0.177148</td>\n",
              "      <td>0.055651</td>\n",
              "      <td>88.690382</td>\n",
              "      <td>98.13</td>\n",
              "      <td>batch norm only</td>\n",
              "    </tr>\n",
              "    <tr>\n",
              "      <th>1</th>\n",
              "      <td>1</td>\n",
              "      <td>0.066136</td>\n",
              "      <td>0.052387</td>\n",
              "      <td>97.867371</td>\n",
              "      <td>98.34</td>\n",
              "      <td>batch norm only</td>\n",
              "    </tr>\n",
              "    <tr>\n",
              "      <th>2</th>\n",
              "      <td>2</td>\n",
              "      <td>0.055412</td>\n",
              "      <td>0.042169</td>\n",
              "      <td>98.210670</td>\n",
              "      <td>98.67</td>\n",
              "      <td>batch norm only</td>\n",
              "    </tr>\n",
              "    <tr>\n",
              "      <th>3</th>\n",
              "      <td>3</td>\n",
              "      <td>0.046372</td>\n",
              "      <td>0.046642</td>\n",
              "      <td>98.489079</td>\n",
              "      <td>98.52</td>\n",
              "      <td>batch norm only</td>\n",
              "    </tr>\n",
              "    <tr>\n",
              "      <th>4</th>\n",
              "      <td>4</td>\n",
              "      <td>0.045064</td>\n",
              "      <td>0.030142</td>\n",
              "      <td>98.502080</td>\n",
              "      <td>99.06</td>\n",
              "      <td>batch norm only</td>\n",
              "    </tr>\n",
              "    <tr>\n",
              "      <th>...</th>\n",
              "      <td>...</td>\n",
              "      <td>...</td>\n",
              "      <td>...</td>\n",
              "      <td>...</td>\n",
              "      <td>...</td>\n",
              "      <td>...</td>\n",
              "    </tr>\n",
              "    <tr>\n",
              "      <th>75</th>\n",
              "      <td>15</td>\n",
              "      <td>2.359181</td>\n",
              "      <td>2.302585</td>\n",
              "      <td>9.875280</td>\n",
              "      <td>9.80</td>\n",
              "      <td>Batch norm and L1</td>\n",
              "    </tr>\n",
              "    <tr>\n",
              "      <th>76</th>\n",
              "      <td>16</td>\n",
              "      <td>2.304362</td>\n",
              "      <td>2.302585</td>\n",
              "      <td>9.908250</td>\n",
              "      <td>9.80</td>\n",
              "      <td>Batch norm and L1</td>\n",
              "    </tr>\n",
              "    <tr>\n",
              "      <th>77</th>\n",
              "      <td>17</td>\n",
              "      <td>2.303147</td>\n",
              "      <td>2.302585</td>\n",
              "      <td>9.811335</td>\n",
              "      <td>9.80</td>\n",
              "      <td>Batch norm and L1</td>\n",
              "    </tr>\n",
              "    <tr>\n",
              "      <th>78</th>\n",
              "      <td>18</td>\n",
              "      <td>2.303147</td>\n",
              "      <td>2.302585</td>\n",
              "      <td>9.907271</td>\n",
              "      <td>9.80</td>\n",
              "      <td>Batch norm and L1</td>\n",
              "    </tr>\n",
              "    <tr>\n",
              "      <th>79</th>\n",
              "      <td>19</td>\n",
              "      <td>2.303147</td>\n",
              "      <td>2.302585</td>\n",
              "      <td>9.788500</td>\n",
              "      <td>9.80</td>\n",
              "      <td>Batch norm and L1</td>\n",
              "    </tr>\n",
              "  </tbody>\n",
              "</table>\n",
              "<p>80 rows × 6 columns</p>\n",
              "</div>"
            ],
            "text/plain": [
              "    epoch  train_losses  test_losses  train_acc  test_acc                exp\n",
              "0       0      0.177148     0.055651  88.690382     98.13    batch norm only\n",
              "1       1      0.066136     0.052387  97.867371     98.34    batch norm only\n",
              "2       2      0.055412     0.042169  98.210670     98.67    batch norm only\n",
              "3       3      0.046372     0.046642  98.489079     98.52    batch norm only\n",
              "4       4      0.045064     0.030142  98.502080     99.06    batch norm only\n",
              "..    ...           ...          ...        ...       ...                ...\n",
              "75     15      2.359181     2.302585   9.875280      9.80  Batch norm and L1\n",
              "76     16      2.304362     2.302585   9.908250      9.80  Batch norm and L1\n",
              "77     17      2.303147     2.302585   9.811335      9.80  Batch norm and L1\n",
              "78     18      2.303147     2.302585   9.907271      9.80  Batch norm and L1\n",
              "79     19      2.303147     2.302585   9.788500      9.80  Batch norm and L1\n",
              "\n",
              "[80 rows x 6 columns]"
            ]
          },
          "metadata": {},
          "execution_count": 34
        }
      ]
    },
    {
      "cell_type": "code",
      "metadata": {
        "id": "_Bcoo30VLydR"
      },
      "source": [
        "import seaborn as sns\n",
        "sns.set(rc={'figure.figsize':(8, 6)})"
      ],
      "execution_count": 44,
      "outputs": []
    },
    {
      "cell_type": "code",
      "metadata": {
        "colab": {
          "base_uri": "https://localhost:8080/",
          "height": 427
        },
        "id": "x3XIpFMZQCDL",
        "outputId": "37b85b25-f64d-4477-fb87-cf70f25174ce"
      },
      "source": [
        "plt.title('Test accuracy of all models')\n",
        "sns.lineplot(data=logs_df, x='epoch', y='test_acc', hue='exp')"
      ],
      "execution_count": 45,
      "outputs": [
        {
          "output_type": "execute_result",
          "data": {
            "text/plain": [
              "<matplotlib.axes._subplots.AxesSubplot at 0x7f91c0093350>"
            ]
          },
          "metadata": {},
          "execution_count": 45
        },
        {
          "output_type": "display_data",
          "data": {
            "image/png": "[encoded data removed]",
            "text/plain": [
              "<Figure size 576x432 with 1 Axes>"
            ]
          },
          "metadata": {}
        }
      ]
    },
    {
      "cell_type": "code",
      "metadata": {
        "colab": {
          "base_uri": "https://localhost:8080/",
          "height": 427
        },
        "id": "YBOBSpCkQNRr",
        "outputId": "70c78375-4cf8-4948-9d2b-765a07bc40a3"
      },
      "source": [
        "plt.title('Test accuracy of models (without L1 model)')\n",
        "sns.lineplot(\n",
        "    data=logs_df[logs_df.exp!='Batch norm and L1'], \n",
        "    x='epoch', y='test_acc', hue='exp'\n",
        ")"
      ],
      "execution_count": 46,
      "outputs": [
        {
          "output_type": "execute_result",
          "data": {
            "text/plain": [
              "<matplotlib.axes._subplots.AxesSubplot at 0x7f91bfea1690>"
            ]
          },
          "metadata": {},
          "execution_count": 46
        },
        {
          "output_type": "display_data",
          "data": {
            "image/png": "[encoded data removed]",
            "text/plain": [
              "<Figure size 576x432 with 1 Axes>"
            ]
          },
          "metadata": {}
        }
      ]
    },
    {
      "cell_type": "code",
      "metadata": {
        "colab": {
          "base_uri": "https://localhost:8080/",
          "height": 427
        },
        "id": "7AguPGX8RaQ6",
        "outputId": "c6e2374e-0453-4c29-b9fc-4d5e7fe74c5f"
      },
      "source": [
        "plt.title('Test Loss of all models')\n",
        "sns.lineplot(data=logs_df, x='epoch', y='test_losses', hue='exp')"
      ],
      "execution_count": 48,
      "outputs": [
        {
          "output_type": "execute_result",
          "data": {
            "text/plain": [
              "<matplotlib.axes._subplots.AxesSubplot at 0x7f91bfd61f10>"
            ]
          },
          "metadata": {},
          "execution_count": 48
        },
        {
          "output_type": "display_data",
          "data": {
            "image/png": "[encoded data removed]",
            "text/plain": [
              "<Figure size 576x432 with 1 Axes>"
            ]
          },
          "metadata": {}
        }
      ]
    },
    {
      "cell_type": "code",
      "metadata": {
        "colab": {
          "base_uri": "https://localhost:8080/",
          "height": 427
        },
        "id": "wdg8_VjbRE_A",
        "outputId": "954c96a4-e1a1-46e7-ad40-ded7b3a7819b"
      },
      "source": [
        "plt.title('Test accuracy of models (without L1 model)')\n",
        "sns.lineplot(\n",
        "    data=logs_df[logs_df.exp!='Batch norm and L1'], \n",
        "    x='epoch', y='test_losses', hue='exp'\n",
        ")"
      ],
      "execution_count": 49,
      "outputs": [
        {
          "output_type": "execute_result",
          "data": {
            "text/plain": [
              "<matplotlib.axes._subplots.AxesSubplot at 0x7f91bfc95650>"
            ]
          },
          "metadata": {},
          "execution_count": 49
        },
        {
          "output_type": "display_data",
          "data": {
            "image/png": "[encoded data removed]",
            "text/plain": [
              "<Figure size 576x432 with 1 Axes>"
            ]
          },
          "metadata": {}
        }
      ]
    },
    {
      "cell_type": "code",
      "metadata": {
        "id": "KnW-fsEUReZs"
      },
      "source": [
        ""
      ],
      "execution_count": null,
      "outputs": []
    },
    {
      "cell_type": "code",
      "metadata": {
        "id": "bRYSvEqwRLIE"
      },
      "source": [
        ""
      ],
      "execution_count": null,
      "outputs": []
    }
  ]
}